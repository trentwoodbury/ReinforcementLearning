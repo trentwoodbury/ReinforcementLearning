{
 "cells": [
  {
   "cell_type": "code",
   "execution_count": 1,
   "metadata": {},
   "outputs": [],
   "source": [
    "from __future__ import division\n",
    "\n",
    "import matplotlib.pyplot as plt\n",
    "%matplotlib inline\n",
    "\n",
    "import numpy as np\n",
    "import pandas as pd\n"
   ]
  },
  {
   "cell_type": "code",
   "execution_count": 44,
   "metadata": {},
   "outputs": [],
   "source": [
    "\n",
    "def simulate_single_random_walk():\n",
    "    '''\n",
    "    Runs a sinlge random walk starting in the middle of range(0,4).\n",
    "    If the current_state goes outside this range, the random walk ends.\n",
    "    INPUT\n",
    "        NONE\n",
    "    OUTPUT \n",
    "        path: list of integers. The indices that the agent covered in the random walk.\n",
    "    '''\n",
    "    boundaries = [0,6]\n",
    "    moves = [-1, 1]\n",
    "    current_state = 3\n",
    "    path = []\n",
    "    \n",
    "    # while x is within the bounds\n",
    "    while current_state > boundaries[0] and current_state < boundaries[1]:\n",
    "        path.append(current_state)\n",
    "        move = np.random.choice(moves)\n",
    "        current_state += move\n",
    "    # add terminal state\n",
    "    path.append(current_state)\n",
    "        \n",
    "    return path"
   ]
  },
  {
   "cell_type": "code",
   "execution_count": 45,
   "metadata": {},
   "outputs": [],
   "source": [
    "def rmse(predictions, targets):\n",
    "    return np.sqrt(((predictions - targets) ** 2).mean())"
   ]
  },
  {
   "cell_type": "code",
   "execution_count": 52,
   "metadata": {},
   "outputs": [],
   "source": [
    "def w_update(lam, alpha, P_t_1, P_t_0, e_t, x_i):\n",
    "    # e_t update per page 16 of Learning to Predict by Methods of Temporal Difference\n",
    "    delta_w_t = (alpha * (P_t_1 - P_t_0) * (lam * e_t + P_t_1)) * x_i\n",
    "    return delta_w_t\n",
    "\n",
    "def convergence_simulator(alpha, lam):\n",
    "    states = [np.zeros(7) for _ in range(7)]\n",
    "    for idx, state in enumerate(states):\n",
    "        state[idx] = 1.0\n",
    "    w = np.array([0, .5, .5, .5, .5, .5, 1])\n",
    "    actual_probs = np.array([0, 1/6, 1/3, 1/2, 2/3, 5/6, 1])\n",
    "    rmse_list = []\n",
    "    \n",
    "    for training_set in range(100):\n",
    "        # paths will be a list of lists. Each sublist will be a path walked\n",
    "        paths = []\n",
    "        for sequence in range(10):\n",
    "            path = simulate_single_random_walk()\n",
    "            paths.append(path)\n",
    "            \n",
    "        iter_count = 0\n",
    "        sigma = .01\n",
    "        iteration_delta = 100\n",
    "        while iteration_delta > sigma and iter_count < 1000:\n",
    "            iter_count += 1\n",
    "                \n",
    "            for path in paths:\n",
    "                original_w = w.copy()\n",
    "                for idx in range(len(path) - 1):\n",
    "                    if idx == 0:\n",
    "                        e_t = path[0]\n",
    "                    t = idx + 1\n",
    "                    P_t_1 = np.dot(states[path[idx + 1]], w)\n",
    "                    P_t_0 = np.dot(states[path[idx]], w)\n",
    "                    w += w_update(lam, alpha, P_t_1, P_t_0, e_t, states[path[idx]])\n",
    "                iteration_delta = np.linalg.norm(w - original_w)\n",
    "                \n",
    "        rmse_estimate = rmse(w, actual_probs)\n",
    "        rmse_list.append(rmse_estimate)\n",
    "        \n",
    "    print(\"w: \", w)\n",
    "    return np.average(rmse_estimate)"
   ]
  },
  {
   "cell_type": "code",
   "execution_count": 54,
   "metadata": {},
   "outputs": [
    {
     "data": {
      "text/plain": [
       "0.026058920170284119"
      ]
     },
     "execution_count": 54,
     "metadata": {},
     "output_type": "execute_result"
    }
   ],
   "source": [
    "convergence_simulator(alpha=.035, lam=0.5)"
   ]
  },
  {
   "cell_type": "code",
   "execution_count": null,
   "metadata": {},
   "outputs": [],
   "source": []
  }
 ],
 "metadata": {
  "kernelspec": {
   "display_name": "Python 3",
   "language": "python",
   "name": "python3"
  },
  "language_info": {
   "codemirror_mode": {
    "name": "ipython",
    "version": 3
   },
   "file_extension": ".py",
   "mimetype": "text/x-python",
   "name": "python",
   "nbconvert_exporter": "python",
   "pygments_lexer": "ipython3",
   "version": "3.6.0"
  }
 },
 "nbformat": 4,
 "nbformat_minor": 2
}
