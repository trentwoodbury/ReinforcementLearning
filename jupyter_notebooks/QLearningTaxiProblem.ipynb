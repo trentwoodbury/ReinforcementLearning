{
 "cells": [
  {
   "cell_type": "markdown",
   "metadata": {},
   "source": [
    "<b> What is this notebook? </b><br>\n",
    "This notebook includes an implementation of Q-Learning and the Taxi problem."
   ]
  },
  {
   "cell_type": "code",
   "execution_count": 3,
   "metadata": {
    "collapsed": false
   },
   "outputs": [],
   "source": [
    "%matplotlib inline\n",
    "\n",
    "import gym\n",
    "from gym.wrappers import Monitor\n",
    "import matplotlib.pyplot as plt\n",
    "import numpy as np\n",
    "\n",
    "from collections import deque, namedtuple"
   ]
  },
  {
   "cell_type": "markdown",
   "metadata": {},
   "source": [
    "## Functions"
   ]
  },
  {
   "cell_type": "code",
   "execution_count": 205,
   "metadata": {
    "collapsed": true
   },
   "outputs": [],
   "source": [
    "def take_epsilon_greedy_action(epsilon, policy, state):\n",
    "    '''\n",
    "    returns action based on epsilon greedy policy\n",
    "    '''\n",
    "    choices = range(6)\n",
    "    eps_greedy = np.random.choice(np.arange(0,1.01,.01))\n",
    "    if eps_greedy > epsilon:\n",
    "        action = policy[state]\n",
    "    else:\n",
    "        action = np.random.choice(choices)\n",
    "    return action"
   ]
  },
  {
   "cell_type": "code",
   "execution_count": 189,
   "metadata": {
    "collapsed": true
   },
   "outputs": [],
   "source": [
    "def epsilon_decay(epsilon, iter_count):\n",
    "    '''\n",
    "    returns decayed epsilon\n",
    "    '''\n",
    "    return epsilon * np.exp(-.004 * iter_count)"
   ]
  },
  {
   "cell_type": "code",
   "execution_count": 216,
   "metadata": {
    "collapsed": false
   },
   "outputs": [],
   "source": [
    "def perform_q_learning(taxi_env, epsilon=1, alpha=.01, gamma=0.9):\n",
    "    # Matrix of values for state action pairs\n",
    "    Q = np.zeros((5000, 6))\n",
    "    choices = range(6)\n",
    "    policy = [np.random.choice(choices) for _ in Q]\n",
    "    \n",
    "    # Q-learning loop, we run through 10000 episodes\n",
    "    for iter_count in range(100000):\n",
    "        taxi_env.reset()\n",
    "        # status is (state, reward, Done, prob.)\n",
    "        status = (0,0,False,{'prob':1})\n",
    "        \n",
    "        while status[2] == False:\n",
    "            state = status[0]\n",
    "            decayed_eps = epsilon_decay(epsilon, iter_count)\n",
    "            action = take_epsilon_greedy_action(decayed_eps, policy, state)\n",
    "\n",
    "            status = taxi_env.step(action)\n",
    "            reward = status[1]\n",
    "            next_state = status[0]\n",
    "            next_action = policy[next_state]\n",
    "            Q[state, action] = (\n",
    "                Q[state, action] + \n",
    "                alpha * (reward + (gamma * Q[next_state, next_action]) - Q[state, action])\n",
    "            )\n",
    "            \n",
    "            # policy updates\n",
    "            Q_state = list(Q[state])\n",
    "            policy[state] = Q_state.index(max(Q_state))\n",
    "         \n",
    "        # Set the Q value of the terminal state to 0\n",
    "        Q[state] = 0\n",
    "        \n",
    "    return Q"
   ]
  },
  {
   "cell_type": "code",
   "execution_count": 167,
   "metadata": {
    "collapsed": true
   },
   "outputs": [],
   "source": [
    "def get_mae(list_1, list_2):\n",
    "    '''\n",
    "    Produces Mean Absolute Error given two iterables.\n",
    "    '''\n",
    "    mae = np.average([np.abs(x - y) for x,y in zip(list_1, list_2)])\n",
    "    return mae"
   ]
  },
  {
   "cell_type": "markdown",
   "metadata": {},
   "source": [
    "## Evaluating Results"
   ]
  },
  {
   "cell_type": "code",
   "execution_count": null,
   "metadata": {
    "collapsed": false
   },
   "outputs": [],
   "source": [
    "env = gym.make('Taxi-v2')\n",
    "Q = perform_q_learning(env, )"
   ]
  },
  {
   "cell_type": "code",
   "execution_count": null,
   "metadata": {
    "collapsed": true
   },
   "outputs": [],
   "source": [
    "test_indices = [(462, 4), (398, 3), (253, 0), (377, 1), (83, 5)]\n",
    "test_values = [-11.374402515, 4.348907, -0.5856821173, 9.683, -12.8232660372]"
   ]
  },
  {
   "cell_type": "code",
   "execution_count": null,
   "metadata": {
    "collapsed": false
   },
   "outputs": [],
   "source": [
    "Q_estimates = [Q[index] for index in test_indices]\n",
    "mae = get_mae(Q_estimates, test_values)\n",
    "print \"Mean Absolute Error of Q-value estimates:\", mae"
   ]
  },
  {
   "cell_type": "code",
   "execution_count": 212,
   "metadata": {
    "collapsed": false
   },
   "outputs": [
    {
     "name": "stdout",
     "output_type": "stream",
     "text": [
      "+---------+\n",
      "|R: | : :\u001b[35mG\u001b[0m|\n",
      "| : : : : |\n",
      "| :\u001b[43m \u001b[0m: : : |\n",
      "| | : | : |\n",
      "|Y| : |\u001b[34;1mB\u001b[0m: |\n",
      "+---------+\n",
      "  (South)\n"
     ]
    }
   ],
   "source": [
    "env.render()"
   ]
  },
  {
   "cell_type": "code",
   "execution_count": null,
   "metadata": {
    "collapsed": true
   },
   "outputs": [],
   "source": []
  }
 ],
 "metadata": {
  "kernelspec": {
   "display_name": "Python 2",
   "language": "python",
   "name": "python2"
  },
  "language_info": {
   "codemirror_mode": {
    "name": "ipython",
    "version": 2
   },
   "file_extension": ".py",
   "mimetype": "text/x-python",
   "name": "python",
   "nbconvert_exporter": "python",
   "pygments_lexer": "ipython2",
   "version": "2.7.13"
  }
 },
 "nbformat": 4,
 "nbformat_minor": 2
}
