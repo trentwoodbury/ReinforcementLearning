{
 "cells": [
  {
   "cell_type": "code",
   "execution_count": 173,
   "metadata": {
    "collapsed": true
   },
   "outputs": [],
   "source": [
    "from __future__ import division\n",
    "\n",
    "import matplotlib.pyplot as plt\n",
    "%matplotlib inline\n",
    "\n",
    "import numpy as np\n",
    "import pandas as pd"
   ]
  },
  {
   "cell_type": "markdown",
   "metadata": {},
   "source": [
    "### Helper Functions"
   ]
  },
  {
   "cell_type": "code",
   "execution_count": 2,
   "metadata": {
    "collapsed": false
   },
   "outputs": [],
   "source": [
    "def simulate_single_random_walk():\n",
    "    '''\n",
    "    Runs a sinlge random walk starting in the middle of range(0,4).\n",
    "    If the current_state goes outside this range, the random walk ends.\n",
    "    INPUT\n",
    "        NONE\n",
    "    OUTPUT \n",
    "        outcome: Integer. 0 or 1. 0 if the agent fell out the left side of the\n",
    "            bounds. 1 if the agent fell outside of the right side of the bounds.\n",
    "        path: list of integers. The indices that the agent covered in the random walk.\n",
    "    '''\n",
    "    boundaries = [0,4]\n",
    "    moves = [-1, 1]\n",
    "    current_state = 2\n",
    "    path = []\n",
    "    \n",
    "    # while x is within the bounds\n",
    "    while current_state >= boundaries[0] and current_state <= boundaries[1]:\n",
    "        path.append(current_state)\n",
    "        move = np.random.choice(moves)\n",
    "        current_state += move\n",
    "        \n",
    "    if current_state < 0:\n",
    "        return 0, path\n",
    "    else:\n",
    "        return 1, path"
   ]
  },
  {
   "cell_type": "code",
   "execution_count": 56,
   "metadata": {
    "collapsed": true
   },
   "outputs": [],
   "source": [
    "def rmse(predictions, targets):\n",
    "    return np.sqrt(((predictions - targets) ** 2).mean())"
   ]
  },
  {
   "cell_type": "markdown",
   "metadata": {},
   "source": [
    "### Version 0: Attempt to Follow Paper"
   ]
  },
  {
   "cell_type": "code",
   "execution_count": 233,
   "metadata": {
    "collapsed": true
   },
   "outputs": [],
   "source": [
    "def w_update(lam, alpha, P_t_1, P_t_0, e_t):\n",
    "    # e_t update per page 16 of Learning to Predict by Methods of Temporal Difference\n",
    "    delta_w_t = alpha * (P_t_1 - P_t_0) * (lam * e_t + P_t_1) \n",
    "    return delta_w_t\n",
    "\n",
    "def convergence_simulator(alpha, lam):\n",
    "    states = [np.zeros(5) for _ in range(5)]\n",
    "    for idx, state in enumerate(states):\n",
    "        state[idx] = 1.0\n",
    "    w = np.array([.5, .5, .5, .5, .5])\n",
    "    actual_probs = np.array([1/6, 1/3, 1/2, 2/3, 5/6])\n",
    "    rmse_list = []\n",
    "    \n",
    "    for training_set in range(100):\n",
    "        # paths will be a list of lists. Each sublist will be a path walked\n",
    "        paths = []\n",
    "        outcomes = []\n",
    "        for sequence in range(10):\n",
    "            outcome, path = simulate_single_random_walk()\n",
    "            outcomes.append(outcome)\n",
    "            paths.append(path)\n",
    "            \n",
    "        iter_count = 0\n",
    "        sigma = .01\n",
    "        iteration_delta = 100\n",
    "        while iteration_delta > sigma and iter_count < 1000:\n",
    "            \n",
    "            iter_count += 1\n",
    "            if iter_count > 999:\n",
    "                break\n",
    "                \n",
    "            for path, outcome in zip(paths, outcomes):\n",
    "                original_w = w.copy()\n",
    "                for idx in range(len(path) - 1):\n",
    "                    if idx == 0:\n",
    "                        e_t = path[0]\n",
    "                    t = idx + 1\n",
    "                    P_t_1 = states[path[idx + 1]]\n",
    "                    P_t_0 = states[path[idx]]\n",
    "                    w += w_update(lam, alpha, P_t_1, P_t_0, e_t)\n",
    "                iteration_delta = np.linalg.norm(w - original_w)\n",
    "                \n",
    "        rmse_estimate = rmse(w, actual_probs)\n",
    "        rmse_list.append(rmse_estimate)\n",
    "        \n",
    "    return np.average(rmse_estimate)           "
   ]
  },
  {
   "cell_type": "code",
   "execution_count": 234,
   "metadata": {
    "collapsed": false
   },
   "outputs": [
    {
     "data": {
      "text/plain": [
       "58560.282349341847"
      ]
     },
     "execution_count": 234,
     "metadata": {},
     "output_type": "execute_result"
    }
   ],
   "source": [
    "convergence_simulator(alpha=.035, lam=0)"
   ]
  },
  {
   "cell_type": "markdown",
   "metadata": {},
   "source": [
    "### Version 1: Attempt to follow Slide Format"
   ]
  },
  {
   "cell_type": "code",
   "execution_count": 219,
   "metadata": {
    "collapsed": false
   },
   "outputs": [],
   "source": [
    "def get_delta_V(V, state_one, state_zero, alpha, reward, e, lam):\n",
    "    delta_V = alpha * (reward + V[state_one] - V[state_zero]) * e\n",
    "    return delta_V\n",
    "\n",
    "def simulate_multiple_walks(alpha=0.3, lam=0):\n",
    "    '''\n",
    "    Runs multiple random walks and updates expected values (w vector) according\n",
    "    to TD(lambda) formula (4).\n",
    "    INPUT\n",
    "        alpha: float between 0 and 1. Learning rate.\n",
    "        lam: float between 0 and 1. Lambda value.\n",
    "    OUTPUT\n",
    "        RMS: float between 0 and 1. Root Mean Squared Error.\n",
    "    '''\n",
    "    V = np.array([0.5, 0.5, 0.5, 0.5, 0.5])\n",
    "    actual_probs = np.array([1/6, 1/3, 1/2, 2/3, 5/6])\n",
    "    rmse_values = []\n",
    "    \n",
    "    for training_set in range(100):\n",
    "        V_updates = []\n",
    "        for episode in range(10):\n",
    "            current_V = V.copy()\n",
    "            e = np.zeros(5)\n",
    "            walk_outcome, path = simulate_single_random_walk()\n",
    "            for idx in range(len(path) - 1):\n",
    "                if idx == range(len(path) - 1)[-1]:\n",
    "                    reward = walk_outcome\n",
    "                else:\n",
    "                    reward = 0\n",
    "                state_zero = path[idx]\n",
    "                state_one = path[idx + 1]\n",
    "                e[state_zero] += 1\n",
    "                delta_V = get_delta_V(current_V, state_one, state_zero, alpha, reward, e, lam)\n",
    "                current_V += delta_V\n",
    "                V_updates.append(delta_V)\n",
    "                e *= lam\n",
    "        for delta_v in V_updates:\n",
    "            V += delta_v\n",
    "        rmse_values.append(rmse(V, actual_probs))\n",
    "        \n",
    "    return np.average(rmse_values)"
   ]
  },
  {
   "cell_type": "code",
   "execution_count": 221,
   "metadata": {
    "collapsed": false
   },
   "outputs": [
    {
     "data": {
      "image/png": "[encoded data removed]",
      "text/plain": [
       "<matplotlib.figure.Figure at 0x115928fd0>"
      ]
     },
     "metadata": {},
     "output_type": "display_data"
    }
   ],
   "source": [
    "rmse_vals = []\n",
    "lam_vals = np.arange(0,1.1, 0.1)\n",
    "for lam_val in lam_vals:\n",
    "    rmse_vals.append(simulate_multiple_walks(alpha=0.3, lam=lam_val))\n",
    "    \n",
    "plt.rcParams['figure.figsize'] = (6, 6)\n",
    "plt.plot(lam_vals, rmse_vals, 'o-', label=\"Widrow-Hoff\")\n",
    "plt.legend(frameon=False, loc='best')\n",
    "plt.ylabel(\"ERROR\")\n",
    "plt.xlabel(\"lambda\")\n",
    "plt.xticks(lam_vals)\n",
    "plt.show()"
   ]
  },
  {
   "cell_type": "markdown",
   "metadata": {},
   "source": [
    "### Version 2: Github Repo Version"
   ]
  },
  {
   "cell_type": "code",
   "execution_count": 58,
   "metadata": {
    "collapsed": true
   },
   "outputs": [],
   "source": [
    "def calculate_delta(reward, state_one, state_zero, V, alpha):\n",
    "    delta = reward + V[state_one] - V[state_zero]\n",
    "    return delta\n",
    "\n",
    "def update_values(state_one, state_zero, reward, V, e, lam, alpha):\n",
    "    delta = calculate_delta(reward, state_one, state_zero, V, alpha)\n",
    "    e[state_zero] += 1.0\n",
    "    V += alpha * delta * e\n",
    "    e *= lam\n",
    "    return V, e\n",
    "    \n",
    "def simulate_td_lambda(alpha=.035, lam=0):\n",
    "    V = np.array([0.5, 0.5, 0.5, 0.5, 0.5])\n",
    "    actual_probs = np.array([1/6, 1/3, 1/2, 2/3, 5/6])\n",
    "    \n",
    "    for i in range(1000):\n",
    "        e = np.zeros(5)\n",
    "        outcome, path = simulate_single_random_walk()\n",
    "        for state_zero, state_one in zip(path[:-1], path[1:]):\n",
    "            V, e = update_values(state_one, state_zero, reward, V, e, lam, alpha)\n",
    "    \n",
    "    print \"Actual Probs: \", actual_probs\n",
    "    print \"Predicted Probs: \", V\n",
    "    error = rmse(V, actual_probs)\n",
    "    return error"
   ]
  },
  {
   "cell_type": "code",
   "execution_count": 60,
   "metadata": {
    "collapsed": false
   },
   "outputs": [
    {
     "name": "stdout",
     "output_type": "stream",
     "text": [
      "Actual Probs:  [ 0.16666667  0.33333333  0.5         0.66666667  0.83333333]\n",
      "Predicted Probs:  [ 19.36574944  19.39611468  19.55511503  19.73102528  19.66128945]\n",
      "19.0422347503\n"
     ]
    }
   ],
   "source": [
    "error = simulate_td_lambda(alpha=.35, lam=0)\n",
    "print error"
   ]
  },
  {
   "cell_type": "markdown",
   "metadata": {},
   "source": [
    "### Widrow-Hoff Implementation\n",
    "This implementation is in accordance with the method described in the paper.\n",
    "This doesn't work because the gradient is always [0,0,0,0,0] so it never moves."
   ]
  },
  {
   "cell_type": "code",
   "execution_count": 86,
   "metadata": {
    "collapsed": true
   },
   "outputs": [],
   "source": [
    "################ Initial Variables #######################\n",
    "states = [np.zeros(5) for _ in range(5)]\n",
    "for idx, state in enumerate(states):\n",
    "    state[idx] = 1.0\n",
    "\n",
    "    \n",
    "def get_delta_w(w, P_one, P_zero, lam, alpha, e_t):\n",
    "    alpha_term = alpha * (P_one - P_zero)\n",
    "    e_t_plus_one = outcome * P_one * lam * e_t\n",
    "    delta_w = e_t_plus_one * alpha_term\n",
    "    return e_t_plus_one, delta_w\n",
    "\n",
    "def simulate_wf_random_walks(alpha=.35, lam=.3):\n",
    "    w = np.array([0.5, 0.5, 0.5, 0.5, 0.5])\n",
    "    actual_probs = np.array([1/6, 1/3, 1/2, 2/3, 5/6]) \n",
    "    \n",
    "    for _ in range(100):\n",
    "        training_set = []\n",
    "        for seq in range(10):\n",
    "            outcome, path = simulate_single_random_walk() \n",
    "            learning_sequence = [states[idx] for idx in path]\n",
    "            e_t = w * learning_sequence[0]\n",
    "            for state_zero, state_one in zip(learning_sequence[:-1], learning_sequence[1:]):\n",
    "                P_zero = np.dot(w, state_zero)\n",
    "                P_one = np.dot(w, state_one)\n",
    "                e_t, delta_w = get_delta_w(w, P_one, P_zero, lam, alpha, e_t)\n",
    "                training_set.append(delta_w)\n",
    "        w += np.sum(training_set, axis=0)\n",
    "        error = rmse(w, actual_probs)\n",
    "   \n",
    "    print error\n",
    "    print w\n",
    "    print training_set"
   ]
  },
  {
   "cell_type": "markdown",
   "metadata": {},
   "source": [
    "### Reinforcement Learning: An Introduction, Book Implementation\n",
    "This is in accordance with section 6.1 of Sutton and Barto's textbook."
   ]
  },
  {
   "cell_type": "code",
   "execution_count": 102,
   "metadata": {
    "collapsed": false
   },
   "outputs": [],
   "source": [
    "def get_val(current_state, next_state, V, alpha):\n",
    "    if next_state <= 4:\n",
    "        V[current_state] = (\n",
    "            V[current_state] + alpha * (0 + V[next_state] - V[current_state])\n",
    "        )\n",
    "    else:\n",
    "        V[current_state] = V[current_state] + alpha * (1 - V[current_state])\n",
    "    \n",
    "    return V\n",
    "    \n",
    "\n",
    "def s_and_b_random_walk(lam=0, alpha=.35, num_episodes=100):\n",
    "    V = np.array([.5, .5, .5, .5, .5])\n",
    "    states = [0,1,2,3,4,5]\n",
    "    for _ in range(num_episodes):\n",
    "        current_state = 2\n",
    "        while current_state >= 0 and current_state <= 4:\n",
    "            action = np.random.choice([-1,1])\n",
    "            next_state = current_state + action\n",
    "            V = get_val(current_state, next_state, V, alpha)\n",
    "            current_state = next_state\n",
    "    \n",
    "    return V"
   ]
  },
  {
   "cell_type": "code",
   "execution_count": 104,
   "metadata": {
    "collapsed": false
   },
   "outputs": [
    {
     "data": {
      "text/plain": [
       "array([ 1.,  1.,  1.,  1.,  1.])"
      ]
     },
     "execution_count": 104,
     "metadata": {},
     "output_type": "execute_result"
    }
   ],
   "source": [
    "s_and_b_random_walk(lam=0, alpha=.35, num_episodes=1000)"
   ]
  },
  {
   "cell_type": "code",
   "execution_count": null,
   "metadata": {
    "collapsed": true
   },
   "outputs": [],
   "source": []
  }
 ],
 "metadata": {
  "anaconda-cloud": {},
  "kernelspec": {
   "display_name": "Python [default]",
   "language": "python",
   "name": "python2"
  },
  "language_info": {
   "codemirror_mode": {
    "name": "ipython",
    "version": 2
   },
   "file_extension": ".py",
   "mimetype": "text/x-python",
   "name": "python",
   "nbconvert_exporter": "python",
   "pygments_lexer": "ipython2",
   "version": "2.7.13"
  }
 },
 "nbformat": 4,
 "nbformat_minor": 1
}
