{
 "cells": [
  {
   "cell_type": "code",
   "execution_count": 19,
   "metadata": {
    "collapsed": true
   },
   "outputs": [],
   "source": [
    "from __future__ import division\n",
    "import numpy as np\n",
    "import pandas as pd"
   ]
  },
  {
   "cell_type": "code",
   "execution_count": 41,
   "metadata": {
    "collapsed": false
   },
   "outputs": [],
   "source": [
    "def simulate_single_random_walk():\n",
    "    '''\n",
    "    Runs a sinlge random walk starting in the middle of range(0,4).\n",
    "    If the current_state goes outside this range, the random walk ends.\n",
    "    INPUT\n",
    "        NONE\n",
    "    OUTPUT \n",
    "        outcome: Integer. 0 or 1. 0 if the agent fell out the left side of the\n",
    "            bounds. 1 if the agent fell outside of the right side of the bounds.\n",
    "        path: list of integers. The indices that the agent covered in the random walk.\n",
    "    '''\n",
    "    boundaries = [0,4]\n",
    "    moves = [-1, 1]\n",
    "    current_state = 2\n",
    "    path = []\n",
    "    \n",
    "    # while x is within the bounds\n",
    "    while current_state >= boundaries[0] and current_state <= boundaries[1]:\n",
    "        path.append(current_state)\n",
    "        move = np.random.choice(moves)\n",
    "        current_state += move\n",
    "        \n",
    "    if current_state < 0:\n",
    "        return 0, path\n",
    "    else:\n",
    "        return 1, path"
   ]
  },
  {
   "cell_type": "code",
   "execution_count": 45,
   "metadata": {
    "collapsed": true
   },
   "outputs": [],
   "source": [
    "def rmse(predictions, targets):\n",
    "    return np.sqrt(((predictions - targets) ** 2).mean())"
   ]
  },
  {
   "cell_type": "code",
   "execution_count": 48,
   "metadata": {
    "collapsed": false
   },
   "outputs": [],
   "source": [
    "def simulate_multiple_walks(alpha=0.35, lam=0):\n",
    "    '''\n",
    "    Runs multiple random walks and updates expected values (w vector) according\n",
    "    to TD(lambda) formula (4).\n",
    "    INPUT\n",
    "        alpha: float between 0 and 1. Learning rate.\n",
    "        lam: float between 0 and 1. Lambda value.\n",
    "    OUTPUT\n",
    "        RMS: float between 0 and 1. Root Mean Squared Error.\n",
    "    '''\n",
    "    # set up initial expected weights\n",
    "    w = np.array([0.5, 0.5, 0.5, 0.5, 0.5])\n",
    "    X = np.array([[1,0,0,0,0], [0,1,0,0,0], [0,0,1,0,0], [0,0,0,1,0], [0,0,0,0,1]])\n",
    "    actual_probs = np.array([1/6, 1/3, 1/2, 2/3, 5/6])\n",
    "\n",
    "    # TODO: update to batches per page 20 of Sutton\n",
    "    for batch in range(100):\n",
    "        batch_outcomes = []\n",
    "        batch_paths = []\n",
    "        for i in range(10):\n",
    "            walk_outcome, path = simulate_single_random_walk()\n",
    "            batch_outcomes.append(walk_outcome)\n",
    "            batch_paths.append(path)\n",
    "        # update weights based on walk outcome\n",
    "        for i, step in enumerate(path):\n",
    "            w[step] += alpha * (walk_outcome - np.dot(w, X[step])) \n",
    "\n",
    "    rms = rmse(w, actual_probs)\n",
    "    return rms"
   ]
  },
  {
   "cell_type": "code",
   "execution_count": 49,
   "metadata": {
    "collapsed": false
   },
   "outputs": [
    {
     "data": {
      "text/plain": [
       "0.024388065961979177"
      ]
     },
     "execution_count": 49,
     "metadata": {},
     "output_type": "execute_result"
    }
   ],
   "source": [
    "simulate_multiple_walks(alpha=0.035, lam=0)"
   ]
  },
  {
   "cell_type": "code",
   "execution_count": null,
   "metadata": {
    "collapsed": true
   },
   "outputs": [],
   "source": []
  }
 ],
 "metadata": {
  "kernelspec": {
   "display_name": "Python [default]",
   "language": "python",
   "name": "python2"
  },
  "language_info": {
   "codemirror_mode": {
    "name": "ipython",
    "version": 2
   },
   "file_extension": ".py",
   "mimetype": "text/x-python",
   "name": "python",
   "nbconvert_exporter": "python",
   "pygments_lexer": "ipython2",
   "version": "2.7.13"
  }
 },
 "nbformat": 4,
 "nbformat_minor": 1
}
