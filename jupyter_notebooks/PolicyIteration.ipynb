{
 "cells": [
  {
   "cell_type": "markdown",
   "metadata": {},
   "source": [
    "<b>What is this notebook?</b><br>\n",
    "This notebook includes code for the policy iteration algorithm. This algorithm takes as input the Markov Decision process (shown below) and returns the number of iterations required for the algorithm to terminate."
   ]
  },
  {
   "cell_type": "code",
   "execution_count": 32,
   "metadata": {
    "collapsed": true
   },
   "outputs": [],
   "source": [
    "import numpy as np"
   ]
  },
  {
   "cell_type": "code",
   "execution_count": 4,
   "metadata": {
    "collapsed": true
   },
   "outputs": [],
   "source": [
    "# example of MDP\n",
    "input = {\n",
    "\"gamma\":0.75,\n",
    "\"states\": [\n",
    "{\n",
    "\"id\": 0,\n",
    "\"actions\": [\n",
    "{\n",
    "\"id\": 0,\n",
    "\"transitions\": [\n",
    "{\n",
    "\"id\": 0,\n",
    "\"probability\": 0.5,\n",
    "\"reward\": 0,\n",
    "\"to\": 0\n",
    "},\n",
    "{\n",
    "\"id\": 1,\n",
    "\"probability\": 0.5,\n",
    "\"reward\": 0,\n",
    "\"to\": 1\n",
    "}\n",
    "]\n",
    "}\n",
    "]\n",
    "},\n",
    "{\n",
    "\"id\": 1,\n",
    "\"actions\": [\n",
    "{\n",
    "\"id\": 0,\n",
    "\"transitions\": [\n",
    "{\n",
    "\"id\": 0,\n",
    "\"probability\": 1,\n",
    "\"reward\": 1,\n",
    "\"to\": 1\n",
    "}\n",
    "]\n",
    "}\n",
    "]\n",
    "}\n",
    "]\n",
    "}"
   ]
  },
  {
   "cell_type": "code",
   "execution_count": 22,
   "metadata": {
    "collapsed": false
   },
   "outputs": [
    {
     "data": {
      "text/plain": [
       "[{'id': 0,\n",
       "  'transitions': [{'id': 0, 'probability': 0.5, 'reward': 0, 'to': 0},\n",
       "   {'id': 1, 'probability': 0.5, 'reward': 0, 'to': 1}]},\n",
       " {'id': 0, 'transitions': [{'id': 0, 'probability': 1, 'reward': 1, 'to': 1}]}]"
      ]
     },
     "execution_count": 22,
     "metadata": {},
     "output_type": "execute_result"
    }
   ],
   "source": [
    "states = input['states']\n",
    "initial_policy = [state['actions'][0] for state in states]\n",
    "initial_policy"
   ]
  },
  {
   "cell_type": "code",
   "execution_count": 27,
   "metadata": {
    "collapsed": false
   },
   "outputs": [
    {
     "data": {
      "text/plain": [
       "[{'id': 0,\n",
       "  'transitions': [{'id': 0, 'probability': 0.5, 'reward': 0, 'to': 0},\n",
       "   {'id': 1, 'probability': 0.5, 'reward': 0, 'to': 1}]}]"
      ]
     },
     "execution_count": 27,
     "metadata": {},
     "output_type": "execute_result"
    }
   ],
   "source": [
    "states[0]['actions']"
   ]
  },
  {
   "cell_type": "markdown",
   "metadata": {},
   "source": [
    "{'transitions': [{'to': 0, 'reward': 0, 'id': 0, 'probability': 0.5}, {'to': 1, 'reward': 0, 'id': 1, 'probability': 0.5}], 'id': 0}"
   ]
  },
  {
   "cell_type": "code",
   "execution_count": 38,
   "metadata": {
    "collapsed": true
   },
   "outputs": [],
   "source": [
    "def get_value(V, action, gamma):\n",
    "    '''\n",
    "    Calculates value of given action.\n",
    "    INPUT \n",
    "        V: numpy vector. Vector of values.\n",
    "        action: action item in MDP dictionary. Includes 'transitions' key.\n",
    "        gamma: float. Discount factor.\n",
    "    OUTPUT\n",
    "        Value: float.\n",
    "    '''\n",
    "    Value = np.sum([\n",
    "        transition['probability'] * transition['reward'] + (gamma * V[transition['to']])\n",
    "        for transition in action['transitions']\n",
    "    ])\n",
    "    return Value"
   ]
  },
  {
   "cell_type": "code",
   "execution_count": 28,
   "metadata": {
    "collapsed": true
   },
   "outputs": [],
   "source": [
    "def perform_policy_evaluation(V, max_delta, theta, states, current_policy, gamma):\n",
    "    '''\n",
    "    Performs evaluation step to product Value vector.\n",
    "    INPUT \n",
    "        V: vector of length num_states. \n",
    "        max_delta: float. biggest delta value.\n",
    "        theta: float. Cutoff value. Once max_delta < theta, we cut off this evaluation.\n",
    "        states: dictionary. Item in MDP dict.\n",
    "        current_policy: dictionary. Created in policy iteration function.\n",
    "    '''\n",
    "    # Policy Evaluation\n",
    "    while max_delta > theta:\n",
    "        max_delta = 0\n",
    "        for idx, state in enumerate(states):\n",
    "            # get value of each state\n",
    "            v = V[idx]\n",
    "            V[idx] = get_value(V, current_policy[idx], gamma)\n",
    "            delta = np.abs(v - V[idx])\n",
    "\n",
    "            if delta > max_delta:\n",
    "                max_delta = delta\n",
    "                \n",
    "    return V"
   ]
  },
  {
   "cell_type": "code",
   "execution_count": 29,
   "metadata": {
    "collapsed": true
   },
   "outputs": [],
   "source": [
    "def policy_improvement(states, current_policy, V, gamma):\n",
    "    '''\n",
    "    Performs policy improvement component of policy iteration.\n",
    "    INPUT \n",
    "        states: dictionary. MDP item.\n",
    "        current_policy: dictionary. Created in policy iteration function.\n",
    "        V: vector of state-action values.\n",
    "        gamma: float. \n",
    "    OUTPUT\n",
    "        policy_stable: boolean. Whether we've \"converged\" or not.\n",
    "        current_policy: dictionary. Updated (or not) policy.\n",
    "    '''\n",
    "    policy_stable = True\n",
    "    for idx, state in enumerate(states):\n",
    "        b = current_policy[idx]\n",
    "        policy_value = V[idx]\n",
    "        for action in state['actions']:\n",
    "            action_value =  get_value(V, action, gamma)\n",
    "            if action_value > policy_value:\n",
    "                current_policy[idx] = action\n",
    "        if current_policy[idx] != b:\n",
    "            policy_stable = False\n",
    "            \n",
    "    return policy_stable, current_policy"
   ]
  },
  {
   "cell_type": "code",
   "execution_count": 30,
   "metadata": {
    "collapsed": true
   },
   "outputs": [],
   "source": [
    "def policy_iteration(mdp, theta=.0000000001):\n",
    "    '''\n",
    "    Performs policy iteration on MDP and returns number of iterations required for algorithm\n",
    "    to terminate.\n",
    "    INPUT \n",
    "        mdp: dictionary, see cell above for example.\n",
    "        theta: minimum update threshold between iterations.\n",
    "    OUTPUT:\n",
    "        num_iterations: integer. Number of PI iterations required, given MDP.\n",
    "    '''\n",
    "    gamma = mdp['gamma']\n",
    "    states = mdp['states']\n",
    "    \n",
    "    # Initialize all states' Q values to 0.\n",
    "    num_states = len(states)\n",
    "    Q = np.zeros(num_states)\n",
    "    V = np.zeros(num_states)\n",
    "    #TODO: build initial policy that's assured to be coherent\n",
    "    current_policy = [state['actions'][0] for state in states]\n",
    "    policy_outcomes = []\n",
    "    max_delta = 1\n",
    "    \n",
    "    V = perform_policy_evaluation(V, max_delta, theta, states, current_policy, gamma)\n",
    "    \n",
    "    # Policy Improvement\n",
    "    num_iterations = 0\n",
    "    policy_stable = False\n",
    "    while policy_stable == False:\n",
    "        policy_stable, current_policy = policy_improvement(states, current_policy, V, gamma)\n",
    "        num_iterations += 1\n",
    "    \n",
    "    return num_iterations"
   ]
  },
  {
   "cell_type": "code",
   "execution_count": 39,
   "metadata": {
    "collapsed": false
   },
   "outputs": [
    {
     "data": {
      "text/plain": [
       "1"
      ]
     },
     "execution_count": 39,
     "metadata": {},
     "output_type": "execute_result"
    }
   ],
   "source": [
    "policy_iteration(input, theta=.0000000001)"
   ]
  },
  {
   "cell_type": "code",
   "execution_count": null,
   "metadata": {
    "collapsed": true
   },
   "outputs": [],
   "source": []
  }
 ],
 "metadata": {
  "kernelspec": {
   "display_name": "Python 2",
   "language": "python",
   "name": "python2"
  },
  "language_info": {
   "codemirror_mode": {
    "name": "ipython",
    "version": 2
   },
   "file_extension": ".py",
   "mimetype": "text/x-python",
   "name": "python",
   "nbconvert_exporter": "python",
   "pygments_lexer": "ipython2",
   "version": "2.7.13"
  }
 },
 "nbformat": 4,
 "nbformat_minor": 2
}
