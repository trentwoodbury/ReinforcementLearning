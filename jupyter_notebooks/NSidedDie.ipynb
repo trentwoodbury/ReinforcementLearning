{
 "cells": [
  {
   "cell_type": "code",
   "execution_count": 3,
   "metadata": {
    "collapsed": true
   },
   "outputs": [],
   "source": [
    "import numpy as np\n",
    "import pandas as pd\n",
    "\n",
    "from __future__ import division"
   ]
  },
  {
   "cell_type": "markdown",
   "metadata": {},
   "source": [
    "### Description\n",
    "Say we have an N sided die and list, B, of length N filled with 0's and 1's.\n",
    "\n",
    "<br> If we roll a value on the die and the index of B (1-based indexing, here) associated with that value is 0, then whatever value we rolled, we get that number of dollars. E.g. B = [0,0,0,1] and we roll 2 => we get $2.\n",
    "\n",
    "<br> On the other hand, if we roll a value, m, such that the mth index of B equals 1, then we lose all of our money and the game ends. E.g. B = [0,1,0,1] and we roll 4 => We lose the game and all our money.\n",
    "\n",
    "<br>\n",
    "Our goal then is to determine, given our current state in the game, whether or not we should reroll.\n",
    "\n",
    "<br>\n",
    "Below we have a class that takes in a given B and tells us what rolls it could take were it to follow the optimal Markov Decision Process, the outcomes of those rolling sequences, and the expected value of this input B."
   ]
  },
  {
   "cell_type": "code",
   "execution_count": 125,
   "metadata": {
    "collapsed": false
   },
   "outputs": [],
   "source": [
    "class NSidedDice:\n",
    "    def __init__(self, B):\n",
    "        '''\n",
    "        INPUT\n",
    "            B: tuple of 0's and 1's. 1 indices represent numbers s.t. the game ends.\n",
    "        OUTPUT\n",
    "            N: Number of sides on die.\n",
    "            fail_prob: Probability of failing die roll.\n",
    "            state: The amount of money we've made from the game.\n",
    "            win_indices: which numbers, if we roll them, will win us money\n",
    "            path_probs: Probability of following each path\n",
    "            path_values: Reward quantity for a given path\n",
    "            path_rolls: list of lists of rolls composing each path.\n",
    "        '''\n",
    "        self.N = len(B)\n",
    "        self.B = B\n",
    "        self.fail_prob = np.sum(B) / len(B)\n",
    "        self.state = 0\n",
    "        self.win_indices = [n for n in range(self.N) if self.B[n] == 0]\n",
    "        self.path_probs = []\n",
    "        self.path_values = []\n",
    "        self.current_prob = 1 \n",
    "        self.path_rolls = []\n",
    "        self.current_rolls = []\n",
    "    \n",
    "    def calculate_expected_values(self):\n",
    "        '''\n",
    "        calculates expected value of rolling dice.\n",
    "        '''\n",
    "        expected_gains = np.sum([(1 / self.N) * (val + 1) for val in self.win_indices])\n",
    "        expected_loss = self.fail_prob * self.state\n",
    "        \n",
    "        self.expected_value = expected_gains - expected_loss\n",
    "        \n",
    "\n",
    "    def run_bellman(self):\n",
    "        '''\n",
    "        Runs simulation of all possible outcomes to calculate Bellman Equation\n",
    "        '''\n",
    "        for i in range(self.N):\n",
    "            self.current_prob *= 1 / self.N\n",
    "            self.current_rolls.append(i + 1)\n",
    "            # case where we rolled a winning number\n",
    "            if i in self.win_indices:\n",
    "                self.state += (i + 1)\n",
    "                self.calculate_expected_values()\n",
    "                if self.expected_value <= 0:\n",
    "                    self.path_probs.append(self.current_prob)\n",
    "                    self.path_values.append(self.state)\n",
    "                    self.path_rolls.append(self.current_rolls)\n",
    "                    # case where we pop up a level in our tree\n",
    "                    if i == self.N - 1 and len(self.current_rolls) > 1:\n",
    "                        self.current_prob *= self.N**2\n",
    "                        self.state -= self.current_rolls[-2]\n",
    "                        self.state -= self.current_rolls[-1]\n",
    "                        self.current_rolls = self.current_rolls[:-2]\n",
    "                    else:\n",
    "                        self.current_prob *= self.N\n",
    "                        self.state -= self.current_rolls[-1]\n",
    "                        self.current_rolls = self.current_rolls[:-1]\n",
    "\n",
    "                # if expected value is positive, we roll again\n",
    "                else:\n",
    "                    if len(self.current_rolls) < 100:\n",
    "                        self.run_bellman()\n",
    "            # case where we rolled a number in B\n",
    "            else:\n",
    "                self.path_probs.append(self.current_prob)\n",
    "                self.path_values.append(0)\n",
    "                self.path_rolls.append(self.current_rolls)\n",
    "                if i == self.N - 1 and len(self.current_rolls) > 1:\n",
    "                    self.current_prob *= self.N**2\n",
    "                    self.state -= self.current_rolls[-2]\n",
    "                    self.current_rolls = self.current_rolls[:-2]\n",
    "                else:\n",
    "                    self.current_prob *= self.N\n",
    "                    self.current_rolls = self.current_rolls[:-1]\n",
    "        \n",
    "    def get_expected_value(self):\n",
    "        self.run_bellman()\n",
    "        self.expected_value = np.sum(\n",
    "            [prob * val for prob, val in zip(self.path_probs, self.path_values)]\n",
    "        )"
   ]
  },
  {
   "cell_type": "code",
   "execution_count": 141,
   "metadata": {
    "collapsed": false
   },
   "outputs": [],
   "source": [
    "dice = NSidedDice([1,0,0])\n",
    "dice.get_expected_value()"
   ]
  },
  {
   "cell_type": "code",
   "execution_count": 142,
   "metadata": {
    "collapsed": false
   },
   "outputs": [
    {
     "data": {
      "text/plain": [
       "2.2592592592592591"
      ]
     },
     "execution_count": 142,
     "metadata": {},
     "output_type": "execute_result"
    }
   ],
   "source": [
    "dice.expected_value"
   ]
  },
  {
   "cell_type": "code",
   "execution_count": 143,
   "metadata": {
    "collapsed": false
   },
   "outputs": [
    {
     "data": {
      "text/plain": [
       "[[1], [2, 1], [2, 2, 1], [2, 2, 2], [2, 2, 3], [2, 3], [3, 1], [3, 2], [3, 3]]"
      ]
     },
     "execution_count": 143,
     "metadata": {},
     "output_type": "execute_result"
    }
   ],
   "source": [
    "dice.path_rolls"
   ]
  },
  {
   "cell_type": "code",
   "execution_count": 144,
   "metadata": {
    "collapsed": false
   },
   "outputs": [
    {
     "data": {
      "text/plain": [
       "[0, 0, 0, 6, 7, 5, 0, 5, 6]"
      ]
     },
     "execution_count": 144,
     "metadata": {},
     "output_type": "execute_result"
    }
   ],
   "source": [
    "dice.path_values"
   ]
  },
  {
   "cell_type": "code",
   "execution_count": 145,
   "metadata": {
    "collapsed": false
   },
   "outputs": [
    {
     "data": {
      "text/plain": [
       "[0.3333333333333333,\n",
       " 0.1111111111111111,\n",
       " 0.037037037037037035,\n",
       " 0.037037037037037035,\n",
       " 0.037037037037037035,\n",
       " 0.1111111111111111,\n",
       " 0.1111111111111111,\n",
       " 0.1111111111111111,\n",
       " 0.1111111111111111]"
      ]
     },
     "execution_count": 145,
     "metadata": {},
     "output_type": "execute_result"
    }
   ],
   "source": [
    "dice.path_probs"
   ]
  }
 ],
 "metadata": {
  "anaconda-cloud": {},
  "kernelspec": {
   "display_name": "Python [default]",
   "language": "python",
   "name": "python2"
  },
  "language_info": {
   "codemirror_mode": {
    "name": "ipython",
    "version": 2
   },
   "file_extension": ".py",
   "mimetype": "text/x-python",
   "name": "python",
   "nbconvert_exporter": "python",
   "pygments_lexer": "ipython2",
   "version": "2.7.13"
  }
 },
 "nbformat": 4,
 "nbformat_minor": 1
}
