{
 "cells": [
  {
   "cell_type": "code",
   "execution_count": 6,
   "metadata": {
    "collapsed": true
   },
   "outputs": [],
   "source": [
    "import numpy as np\n",
    "import pandas as pd\n",
    "\n",
    "from __future__ import division"
   ]
  },
  {
   "cell_type": "markdown",
   "metadata": {},
   "source": [
    "### Problem Description\n",
    "The game DieN is played in the following way. Consider a die with N sides ͈where N is an integer greater than 1͉ and a nonempty set B of integers. \n",
    "\n",
    "<br>\n",
    "The rules of the game are: \n",
    "<br>1. You start with 0 dollars. \n",
    "<br>2. Roll an N-sided die with a different number from 1 to N printed on each side. \n",
    "     <br>&nbsp;&nbsp; a. If you roll a number not in B, you receive that many dollars. ͈eg. if you roll the number 2 and 2 is not in B, then you receive 2 dollars.͉ \n",
    "    <br>&nbsp;&nbsp; b. If you roll a number in B, then you lose all of your obtained money and the game ends. \n",
    "<br>3. After you roll the die ͈and don’t roll a number in B͉, you have the option to quit the game. If you quit, you keep all the money you’ve earned to that point. If you continue to roll, go back to step 2. "
   ]
  },
  {
   "cell_type": "markdown",
   "metadata": {},
   "source": [
    "### Goal\n",
    "For this problem, determine an optimal policy for playing the game DieN with N sides. You will be given N and an array B isBadSide which indicates which sides are bad. The policy should depend on your current bankroll.\n",
    "\n",
    "<br>\n",
    "Also, let's compute the expected value if we follow an optimal policy?"
   ]
  },
  {
   "cell_type": "code",
   "execution_count": 63,
   "metadata": {
    "collapsed": false
   },
   "outputs": [],
   "source": [
    "class NSidedDice:\n",
    "    def __init__(self, B):\n",
    "        '''\n",
    "        INPUT\n",
    "            N: integer. Represents number of sides on die.\n",
    "            B: tuple of 0's and 1's. 1 indices represent numbers s.t. the game ends.\n",
    "        '''\n",
    "        self.N = len(B)\n",
    "        self.B = B\n",
    "        self.fail_prob = np.sum(B) / len(B)\n",
    "        # state is amount of money in bank account. We start with none.\n",
    "        self.state = 0\n",
    "        # Let's create a list of numbers where we will win money.\n",
    "        self.win_indices = [n for n in range(self.N) if self.B[n] == 0]\n",
    "        # We also want a corresponding list of paths' probabilities and those\n",
    "        # paths' end values.\n",
    "        self.path_probs = []\n",
    "        self.path_values = []\n",
    "        # current_prob keeps track of the probability of our current path\n",
    "        self.current_prob = 1 \n",
    "    \n",
    "    \n",
    "    def calculate_expected_values(self):\n",
    "        '''\n",
    "        calculates expected value of rolling dice.\n",
    "        '''\n",
    "        expected_gains = np.sum([(1 / self.N) * (val + 1) for val in self.win_indices])\n",
    "        expected_loss = self.fail_prob * self.state\n",
    "        \n",
    "        self.expected_value = expected_gains - expected_loss\n",
    "        \n",
    "\n",
    "    def run_bellman(self):\n",
    "        '''\n",
    "        Run simulation of all possible outcomes to calculate Bellman Equation\n",
    "        '''\n",
    "        for i in range(self.N):\n",
    "            self.current_prob *= 1 / self.N\n",
    "            # case where we rolled a winning number\n",
    "            if i in self.win_indices:\n",
    "                self.state += (i + 1)\n",
    "                self.calculate_expected_values()\n",
    "                if self.expected_value < 0:\n",
    "                    self.path_probs.append(self.current_prob)\n",
    "                    self.path_values.append(self.state)\n",
    "                # if expected value is positive, we roll again\n",
    "                else:\n",
    "                    self.run_bellman()\n",
    "            # case where we rolled a number in B\n",
    "            else:\n",
    "                self.path_probs.append(self.current_prob)\n",
    "                self.path_values.append(0)\n",
    "        \n",
    "    def get_expected_value(self):\n",
    "        self.run_bellman()\n",
    "        self.expected_value = np.sum(\n",
    "            [prob * val for prob, val in zip(self.path_probs, self.path_values)]\n",
    "        )"
   ]
  },
  {
   "cell_type": "code",
   "execution_count": 69,
   "metadata": {
    "collapsed": false
   },
   "outputs": [],
   "source": [
    "dice = NSidedDice([1,1,1,0,0,0])\n",
    "dice.get_expected_value()"
   ]
  },
  {
   "cell_type": "code",
   "execution_count": 70,
   "metadata": {
    "collapsed": false
   },
   "outputs": [
    {
     "data": {
      "text/plain": [
       "[0, 0, 0, 0, 0, 0, 8, 13, 19, 24, 30]"
      ]
     },
     "execution_count": 70,
     "metadata": {},
     "output_type": "execute_result"
    }
   ],
   "source": [
    "dice.path_values"
   ]
  },
  {
   "cell_type": "code",
   "execution_count": 71,
   "metadata": {
    "collapsed": false
   },
   "outputs": [
    {
     "data": {
      "text/plain": [
       "6.4471305963408902e-06"
      ]
     },
     "execution_count": 71,
     "metadata": {},
     "output_type": "execute_result"
    }
   ],
   "source": [
    "dice.expected_value"
   ]
  },
  {
   "cell_type": "code",
   "execution_count": 72,
   "metadata": {
    "collapsed": false
   },
   "outputs": [
    {
     "data": {
      "text/plain": [
       "0.19922839496984965"
      ]
     },
     "execution_count": 72,
     "metadata": {},
     "output_type": "execute_result"
    }
   ],
   "source": [
    "np.sum(dice.path_probs)"
   ]
  },
  {
   "cell_type": "code",
   "execution_count": null,
   "metadata": {
    "collapsed": true
   },
   "outputs": [],
   "source": []
  }
 ],
 "metadata": {
  "anaconda-cloud": {},
  "kernelspec": {
   "display_name": "Python [default]",
   "language": "python",
   "name": "python2"
  },
  "language_info": {
   "codemirror_mode": {
    "name": "ipython",
    "version": 2
   },
   "file_extension": ".py",
   "mimetype": "text/x-python",
   "name": "python",
   "nbconvert_exporter": "python",
   "pygments_lexer": "ipython2",
   "version": "2.7.13"
  }
 },
 "nbformat": 4,
 "nbformat_minor": 1
}
